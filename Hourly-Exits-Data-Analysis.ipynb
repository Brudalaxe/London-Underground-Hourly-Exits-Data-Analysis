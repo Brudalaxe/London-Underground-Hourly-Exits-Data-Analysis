{
 "cells": [
  {
   "cell_type": "markdown",
   "id": "4c057257-bf5a-4f76-8672-1d2eba14287d",
   "metadata": {},
   "source": [
    "# London underground hourly exits data analysis\n",
    "\n",
    "by **Bradley Aldous**\n",
    "\n",
    "## Contents:\n",
    "\n",
    "* [Part 1: Calculating Morning and Evening Peak Proportions](#first-bullet)\n",
    "* [Part 2: Plotting and Analysing Distributions](#second-bullet)\n",
    "* [Part 3: A Simple Classification of Stations](#third-bullet)\n",
    "\n",
    "## Part 1: Calculating Morning and Evening Peak Proportions <a class=\"anchor\" id=\"first-bullet\"></a>"
   ]
  },
  {
   "cell_type": "markdown",
   "id": "15c5dd16-b057-4f0f-8ae1-eceec8431bb7",
   "metadata": {},
   "source": [
    "The 'hourlyExits' dataset containing the number of exits from each station on the London underground network is stored in a new data frame called 'exits'."
   ]
  },
  {
   "cell_type": "code",
   "execution_count": 1,
   "id": "7a5ba184-f60c-4457-9166-71e100f99686",
   "metadata": {},
   "outputs": [],
   "source": [
    "import pandas as pd\n",
    "\n",
    "exits = pd.read_csv('hourlyExits.csv', index_col='Station')"
   ]
  },
  {
   "cell_type": "markdown",
   "id": "89e3836d-dfb1-4760-aade-4442c8127954",
   "metadata": {},
   "source": [
    "The hours included within the AM peak and PM peak periods are 7am, 8am & 9am and 4pm, 5pm & 6pm respectively, and so the number of exits from each station corresponding to each of these hours is stored in the relevant variable; either 'AMPeak' or 'PMPeak', depending on which period they fall in."
   ]
  },
  {
   "cell_type": "code",
   "execution_count": 2,
   "id": "ae4a01b7-25a4-40a7-88e3-b7b1d8c519c4",
   "metadata": {},
   "outputs": [],
   "source": [
    "AMPeak = exits.loc[:, ('H07', 'H08', 'H09')]\n",
    "PMPeak = exits.loc[:, ('H16', 'H17', 'H18')]"
   ]
  },
  {
   "cell_type": "markdown",
   "id": "fab938fe-ee7f-4b21-94ef-6e82af226bde",
   "metadata": {},
   "source": [
    "A new empty data frame called 'peak_counts' is created, and the total number of exits from each station in the AM peak period is summed, as well as for the PM peak period. These summed values are then stored in the new variables, 'AMPeak_Count' and 'PMPeak_Count', which are then assigned to the data frame to create the above dataset. Thus, this new data frame contains the total number of exits in the AM and PM peak periods for each station."
   ]
  },
  {
   "cell_type": "code",
   "execution_count": 3,
   "id": "9374e87c-10eb-489b-ad17-5677adf5d8e9",
   "metadata": {},
   "outputs": [
    {
     "data": {
      "text/html": [
       "<div>\n",
       "<style scoped>\n",
       "    .dataframe tbody tr th:only-of-type {\n",
       "        vertical-align: middle;\n",
       "    }\n",
       "\n",
       "    .dataframe tbody tr th {\n",
       "        vertical-align: top;\n",
       "    }\n",
       "\n",
       "    .dataframe thead th {\n",
       "        text-align: right;\n",
       "    }\n",
       "</style>\n",
       "<table border=\"1\" class=\"dataframe\">\n",
       "  <thead>\n",
       "    <tr style=\"text-align: right;\">\n",
       "      <th></th>\n",
       "      <th>AMPeak_Count</th>\n",
       "      <th>PMPeak_Count</th>\n",
       "    </tr>\n",
       "    <tr>\n",
       "      <th>Station</th>\n",
       "      <th></th>\n",
       "      <th></th>\n",
       "    </tr>\n",
       "  </thead>\n",
       "  <tbody>\n",
       "    <tr>\n",
       "      <th>Acton Town</th>\n",
       "      <td>1970</td>\n",
       "      <td>2628</td>\n",
       "    </tr>\n",
       "    <tr>\n",
       "      <th>Aldgate</th>\n",
       "      <td>7408</td>\n",
       "      <td>2992</td>\n",
       "    </tr>\n",
       "    <tr>\n",
       "      <th>Aldgate East</th>\n",
       "      <td>7618</td>\n",
       "      <td>3803</td>\n",
       "    </tr>\n",
       "    <tr>\n",
       "      <th>Alperton</th>\n",
       "      <td>856</td>\n",
       "      <td>1847</td>\n",
       "    </tr>\n",
       "    <tr>\n",
       "      <th>Amersham</th>\n",
       "      <td>424</td>\n",
       "      <td>1465</td>\n",
       "    </tr>\n",
       "    <tr>\n",
       "      <th>...</th>\n",
       "      <td>...</td>\n",
       "      <td>...</td>\n",
       "    </tr>\n",
       "    <tr>\n",
       "      <th>Wimbledon Park</th>\n",
       "      <td>497</td>\n",
       "      <td>1114</td>\n",
       "    </tr>\n",
       "    <tr>\n",
       "      <th>Wood Green</th>\n",
       "      <td>2165</td>\n",
       "      <td>6494</td>\n",
       "    </tr>\n",
       "    <tr>\n",
       "      <th>Wood Lane</th>\n",
       "      <td>1798</td>\n",
       "      <td>1766</td>\n",
       "    </tr>\n",
       "    <tr>\n",
       "      <th>Woodford</th>\n",
       "      <td>703</td>\n",
       "      <td>3889</td>\n",
       "    </tr>\n",
       "    <tr>\n",
       "      <th>Woodside Park</th>\n",
       "      <td>487</td>\n",
       "      <td>2654</td>\n",
       "    </tr>\n",
       "  </tbody>\n",
       "</table>\n",
       "<p>268 rows × 2 columns</p>\n",
       "</div>"
      ],
      "text/plain": [
       "                AMPeak_Count  PMPeak_Count\n",
       "Station                                   \n",
       "Acton Town              1970          2628\n",
       "Aldgate                 7408          2992\n",
       "Aldgate East            7618          3803\n",
       "Alperton                 856          1847\n",
       "Amersham                 424          1465\n",
       "...                      ...           ...\n",
       "Wimbledon Park           497          1114\n",
       "Wood Green              2165          6494\n",
       "Wood Lane               1798          1766\n",
       "Woodford                 703          3889\n",
       "Woodside Park            487          2654\n",
       "\n",
       "[268 rows x 2 columns]"
      ]
     },
     "execution_count": 3,
     "metadata": {},
     "output_type": "execute_result"
    }
   ],
   "source": [
    "peak_counts = pd.DataFrame()\n",
    "peak_counts = peak_counts.assign(AMPeak_Count = AMPeak['H07'] + AMPeak['H08'] + AMPeak['H09'], PMPeak_Count = PMPeak['H16'] + PMPeak['H17'] + PMPeak['H18'])\n",
    "peak_counts"
   ]
  },
  {
   "cell_type": "markdown",
   "id": "cc5ec1f5-ad7c-4f92-934f-8578a1b20c8b",
   "metadata": {},
   "source": [
    "A new variable called 'Daily_total' is created by summing the total number of exits from each station in the 'exits' data frame. This variable contains the total number of exits for each station in the full 24 hour period, not just the AM and PM peak periods."
   ]
  },
  {
   "cell_type": "code",
   "execution_count": 4,
   "id": "d0434133-a097-452c-90ef-c5bf439cc6e5",
   "metadata": {},
   "outputs": [],
   "source": [
    "Daily_total = exits.sum(axis = 1)"
   ]
  },
  {
   "cell_type": "markdown",
   "id": "91714614-49cc-401c-a639-0832540c07f9",
   "metadata": {},
   "source": [
    "A new data frame called 'peak_proportions' is created. The values in the 'AMPeak_Count' column in 'peak_counts' is then divided by 'Daily_total' to then create a new column in 'peak_proportions' called 'Proportion_of_AMPeak'. The same calculation is done on the 'PMPeak_Count' column and then stored in 'peak_proportions' as 'Proportion_of_PMPeak'. Thus, this new data frame contains the AM and PM peak counts of total exits as a proportion of the daily total for each station."
   ]
  },
  {
   "cell_type": "code",
   "execution_count": 5,
   "id": "d58ae592-a26b-4eee-9b48-4d94a7c93cc9",
   "metadata": {},
   "outputs": [
    {
     "data": {
      "text/html": [
       "<div>\n",
       "<style scoped>\n",
       "    .dataframe tbody tr th:only-of-type {\n",
       "        vertical-align: middle;\n",
       "    }\n",
       "\n",
       "    .dataframe tbody tr th {\n",
       "        vertical-align: top;\n",
       "    }\n",
       "\n",
       "    .dataframe thead th {\n",
       "        text-align: right;\n",
       "    }\n",
       "</style>\n",
       "<table border=\"1\" class=\"dataframe\">\n",
       "  <thead>\n",
       "    <tr style=\"text-align: right;\">\n",
       "      <th></th>\n",
       "      <th>Proportion_of_AMPeak</th>\n",
       "      <th>Proportion_of_PMPeak</th>\n",
       "    </tr>\n",
       "    <tr>\n",
       "      <th>Station</th>\n",
       "      <th></th>\n",
       "      <th></th>\n",
       "    </tr>\n",
       "  </thead>\n",
       "  <tbody>\n",
       "    <tr>\n",
       "      <th>Acton Town</th>\n",
       "      <td>0.210425</td>\n",
       "      <td>0.280709</td>\n",
       "    </tr>\n",
       "    <tr>\n",
       "      <th>Aldgate</th>\n",
       "      <td>0.459098</td>\n",
       "      <td>0.185424</td>\n",
       "    </tr>\n",
       "    <tr>\n",
       "      <th>Aldgate East</th>\n",
       "      <td>0.359238</td>\n",
       "      <td>0.179336</td>\n",
       "    </tr>\n",
       "    <tr>\n",
       "      <th>Alperton</th>\n",
       "      <td>0.167253</td>\n",
       "      <td>0.360883</td>\n",
       "    </tr>\n",
       "    <tr>\n",
       "      <th>Amersham</th>\n",
       "      <td>0.108579</td>\n",
       "      <td>0.375160</td>\n",
       "    </tr>\n",
       "    <tr>\n",
       "      <th>...</th>\n",
       "      <td>...</td>\n",
       "      <td>...</td>\n",
       "    </tr>\n",
       "    <tr>\n",
       "      <th>Wimbledon Park</th>\n",
       "      <td>0.150789</td>\n",
       "      <td>0.337985</td>\n",
       "    </tr>\n",
       "    <tr>\n",
       "      <th>Wood Green</th>\n",
       "      <td>0.114013</td>\n",
       "      <td>0.341987</td>\n",
       "    </tr>\n",
       "    <tr>\n",
       "      <th>Wood Lane</th>\n",
       "      <td>0.272012</td>\n",
       "      <td>0.267171</td>\n",
       "    </tr>\n",
       "    <tr>\n",
       "      <th>Woodford</th>\n",
       "      <td>0.073344</td>\n",
       "      <td>0.405738</td>\n",
       "    </tr>\n",
       "    <tr>\n",
       "      <th>Woodside Park</th>\n",
       "      <td>0.079239</td>\n",
       "      <td>0.431826</td>\n",
       "    </tr>\n",
       "  </tbody>\n",
       "</table>\n",
       "<p>268 rows × 2 columns</p>\n",
       "</div>"
      ],
      "text/plain": [
       "                Proportion_of_AMPeak  Proportion_of_PMPeak\n",
       "Station                                                   \n",
       "Acton Town                  0.210425              0.280709\n",
       "Aldgate                     0.459098              0.185424\n",
       "Aldgate East                0.359238              0.179336\n",
       "Alperton                    0.167253              0.360883\n",
       "Amersham                    0.108579              0.375160\n",
       "...                              ...                   ...\n",
       "Wimbledon Park              0.150789              0.337985\n",
       "Wood Green                  0.114013              0.341987\n",
       "Wood Lane                   0.272012              0.267171\n",
       "Woodford                    0.073344              0.405738\n",
       "Woodside Park               0.079239              0.431826\n",
       "\n",
       "[268 rows x 2 columns]"
      ]
     },
     "execution_count": 5,
     "metadata": {},
     "output_type": "execute_result"
    }
   ],
   "source": [
    "peak_proportions = pd.DataFrame()\n",
    "peak_proportions['Proportion_of_AMPeak'] = peak_counts.AMPeak_Count / Daily_total\n",
    "peak_proportions['Proportion_of_PMPeak'] = peak_counts.PMPeak_Count / Daily_total\n",
    "peak_proportions"
   ]
  },
  {
   "cell_type": "markdown",
   "id": "471df919-2bfd-415d-8550-f43eb5a6cf4c",
   "metadata": {},
   "source": [
    "## Part 2: Plotting and Analysing Distributions <a class=\"anchor\" id=\"second-bullet\"></a>"
   ]
  },
  {
   "cell_type": "markdown",
   "id": "3a3f3b83-c61b-4f36-938a-18478dd071cc",
   "metadata": {},
   "source": [
    "The describe function provides us with extra insight into the data, giving useful values for the distributions ('peak_counts' and 'peak_proportions'), like the mean, median, standard deviation and quartiles."
   ]
  },
  {
   "cell_type": "code",
   "execution_count": 6,
   "id": "2304f3cd-786a-4675-8673-430a1412e7e1",
   "metadata": {},
   "outputs": [
    {
     "data": {
      "text/html": [
       "<div>\n",
       "<style scoped>\n",
       "    .dataframe tbody tr th:only-of-type {\n",
       "        vertical-align: middle;\n",
       "    }\n",
       "\n",
       "    .dataframe tbody tr th {\n",
       "        vertical-align: top;\n",
       "    }\n",
       "\n",
       "    .dataframe thead th {\n",
       "        text-align: right;\n",
       "    }\n",
       "</style>\n",
       "<table border=\"1\" class=\"dataframe\">\n",
       "  <thead>\n",
       "    <tr style=\"text-align: right;\">\n",
       "      <th></th>\n",
       "      <th>AMPeak_Count</th>\n",
       "      <th>PMPeak_Count</th>\n",
       "    </tr>\n",
       "  </thead>\n",
       "  <tbody>\n",
       "    <tr>\n",
       "      <th>count</th>\n",
       "      <td>268.000000</td>\n",
       "      <td>268.000000</td>\n",
       "    </tr>\n",
       "    <tr>\n",
       "      <th>mean</th>\n",
       "      <td>4549.768657</td>\n",
       "      <td>4477.555970</td>\n",
       "    </tr>\n",
       "    <tr>\n",
       "      <th>std</th>\n",
       "      <td>8181.784059</td>\n",
       "      <td>6276.463316</td>\n",
       "    </tr>\n",
       "    <tr>\n",
       "      <th>min</th>\n",
       "      <td>27.000000</td>\n",
       "      <td>239.000000</td>\n",
       "    </tr>\n",
       "    <tr>\n",
       "      <th>25%</th>\n",
       "      <td>677.500000</td>\n",
       "      <td>1471.750000</td>\n",
       "    </tr>\n",
       "    <tr>\n",
       "      <th>50%</th>\n",
       "      <td>1517.000000</td>\n",
       "      <td>2622.000000</td>\n",
       "    </tr>\n",
       "    <tr>\n",
       "      <th>75%</th>\n",
       "      <td>4315.250000</td>\n",
       "      <td>4707.750000</td>\n",
       "    </tr>\n",
       "    <tr>\n",
       "      <th>max</th>\n",
       "      <td>61116.000000</td>\n",
       "      <td>59486.000000</td>\n",
       "    </tr>\n",
       "  </tbody>\n",
       "</table>\n",
       "</div>"
      ],
      "text/plain": [
       "       AMPeak_Count  PMPeak_Count\n",
       "count    268.000000    268.000000\n",
       "mean    4549.768657   4477.555970\n",
       "std     8181.784059   6276.463316\n",
       "min       27.000000    239.000000\n",
       "25%      677.500000   1471.750000\n",
       "50%     1517.000000   2622.000000\n",
       "75%     4315.250000   4707.750000\n",
       "max    61116.000000  59486.000000"
      ]
     },
     "execution_count": 6,
     "metadata": {},
     "output_type": "execute_result"
    }
   ],
   "source": [
    "peak_counts.describe()"
   ]
  },
  {
   "cell_type": "code",
   "execution_count": 7,
   "id": "ae260fda-be84-4495-8aaf-efcb638f28ee",
   "metadata": {},
   "outputs": [
    {
     "data": {
      "text/html": [
       "<div>\n",
       "<style scoped>\n",
       "    .dataframe tbody tr th:only-of-type {\n",
       "        vertical-align: middle;\n",
       "    }\n",
       "\n",
       "    .dataframe tbody tr th {\n",
       "        vertical-align: top;\n",
       "    }\n",
       "\n",
       "    .dataframe thead th {\n",
       "        text-align: right;\n",
       "    }\n",
       "</style>\n",
       "<table border=\"1\" class=\"dataframe\">\n",
       "  <thead>\n",
       "    <tr style=\"text-align: right;\">\n",
       "      <th></th>\n",
       "      <th>Proportion_of_AMPeak</th>\n",
       "      <th>Proportion_of_PMPeak</th>\n",
       "    </tr>\n",
       "  </thead>\n",
       "  <tbody>\n",
       "    <tr>\n",
       "      <th>count</th>\n",
       "      <td>268.000000</td>\n",
       "      <td>268.000000</td>\n",
       "    </tr>\n",
       "    <tr>\n",
       "      <th>mean</th>\n",
       "      <td>0.207132</td>\n",
       "      <td>0.298750</td>\n",
       "    </tr>\n",
       "    <tr>\n",
       "      <th>std</th>\n",
       "      <td>0.122161</td>\n",
       "      <td>0.087724</td>\n",
       "    </tr>\n",
       "    <tr>\n",
       "      <th>min</th>\n",
       "      <td>0.045302</td>\n",
       "      <td>0.084630</td>\n",
       "    </tr>\n",
       "    <tr>\n",
       "      <th>25%</th>\n",
       "      <td>0.116120</td>\n",
       "      <td>0.240947</td>\n",
       "    </tr>\n",
       "    <tr>\n",
       "      <th>50%</th>\n",
       "      <td>0.169378</td>\n",
       "      <td>0.307397</td>\n",
       "    </tr>\n",
       "    <tr>\n",
       "      <th>75%</th>\n",
       "      <td>0.266443</td>\n",
       "      <td>0.361596</td>\n",
       "    </tr>\n",
       "    <tr>\n",
       "      <th>max</th>\n",
       "      <td>0.630427</td>\n",
       "      <td>0.496079</td>\n",
       "    </tr>\n",
       "  </tbody>\n",
       "</table>\n",
       "</div>"
      ],
      "text/plain": [
       "       Proportion_of_AMPeak  Proportion_of_PMPeak\n",
       "count            268.000000            268.000000\n",
       "mean               0.207132              0.298750\n",
       "std                0.122161              0.087724\n",
       "min                0.045302              0.084630\n",
       "25%                0.116120              0.240947\n",
       "50%                0.169378              0.307397\n",
       "75%                0.266443              0.361596\n",
       "max                0.630427              0.496079"
      ]
     },
     "execution_count": 7,
     "metadata": {},
     "output_type": "execute_result"
    }
   ],
   "source": [
    "peak_proportions.describe()"
   ]
  },
  {
   "cell_type": "markdown",
   "id": "4690ea7a-31fb-48a6-8a18-7d89bc127f7c",
   "metadata": {},
   "source": [
    "Two histograms are created; one for the 'Proportion_of_AMPeak' column in the 'peak_proportions' dataframe, and one for the 'Proportion_of_PMPeak' column."
   ]
  },
  {
   "cell_type": "code",
   "execution_count": 8,
   "id": "024ea7c3-dc59-406c-9d0d-bb1384dbe81c",
   "metadata": {},
   "outputs": [
    {
     "data": {
      "text/plain": [
       "Text(0, 0.5, 'Number of stations')"
      ]
     },
     "execution_count": 8,
     "metadata": {},
     "output_type": "execute_result"
    },
    {
     "data": {
      "image/png": "[encoded data removed]",
      "text/plain": [
       "<Figure size 1080x504 with 1 Axes>"
      ]
     },
     "metadata": {
      "needs_background": "light"
     },
     "output_type": "display_data"
    },
    {
     "data": {
      "image/png": "[encoded data removed]",
      "text/plain": [
       "<Figure size 1080x504 with 1 Axes>"
      ]
     },
     "metadata": {
      "needs_background": "light"
     },
     "output_type": "display_data"
    }
   ],
   "source": [
    "import matplotlib.pyplot as plt\n",
    "\n",
    "peak_proportions.hist(column = 'Proportion_of_AMPeak', bins = 30, figsize = (15,7), xlabelsize = 12, ylabelsize = 12, range = [0,0.6])\n",
    "plt.xlabel('Proportion')\n",
    "plt.ylabel('Number of stations')\n",
    "peak_proportions.hist(column = 'Proportion_of_PMPeak', bins = 30, figsize = (15,7), xlabelsize = 12, ylabelsize = 12, range = [0,0.6])\n",
    "plt.xlabel('Proportion')\n",
    "plt.ylabel('Number of stations')"
   ]
  },
  {
   "cell_type": "markdown",
   "id": "da629501-e6d5-43e2-adfa-6456502fddec",
   "metadata": {},
   "source": [
    "Whilst the ranges of the distributions are comparable, the median is significantly lower in the AM peak than the PM peak in both of the above distributions. In the AM peak proportion distribution we can see that the median is roughly a quarter of the maximum value, implying a positive skew. In fact, this is verified by the AM peak histogram. The two histograms display opposing skews; the AM peak histogram has a strongly positive skew, whilst the PM peak histogram has a very slight negative skew (almost symmetrical). The positive skew of the AM peak histogram suggests that there may be a higher number of stations in the dataset that are situated in more residential areas, rather than in business districts, as there are less stations with more people exiting in the AM than the PM peak period.\n",
    "\n",
    "From the statistics shown by applying the describe function, we see that the ranges for the AM peak period in each distribution above is greater than the range for the PM peak period. This is made evident further by making a comparison between the standard deviations of the peak periods. We see that, in both the sum and proportion cases, the standard deviation is greater in the AM period than the PM period. This suggests that the spread of proportions for the AM peak is greater than the PM peak. This could mean that the times at which people travel in the AM period is less spread out than in the PM period.\n",
    "\n",
    "Whilst the standard deviation is greater in the AM peak case, the histogram shows us that the bulk of the data is more tightly concentrated in the low proportions (higher proportions have very low values for the number of stations). In the PM peak case, the data seems to less constrained and evenly spread out, despite its lower standard deviation."
   ]
  },
  {
   "cell_type": "markdown",
   "id": "1714ca3f-868c-49eb-964b-9b3370c7283a",
   "metadata": {},
   "source": [
    "## Part 3: A Simple Classification of Stations <a class=\"anchor\" id=\"third-bullet\"></a>"
   ]
  },
  {
   "cell_type": "markdown",
   "id": "46928c37-f451-47c6-8ec5-5da125bbf7a7",
   "metadata": {},
   "source": [
    "To separate the stations into three classes ('Work', 'Residential' and 'Other'), a suitable threshold is chosen to allow a distinction between the stations. Here, this threshold is chosen to be a ratio of the variables 'Proportion_of_AMPeak' and 'Proportion_of_PMPeak'. For a station to be in the 'Work' class, the AM peak proportion must be greater than twice the PM peak proportion (2:1 ratio). In the case of the 'Residential' class, this is reversed; the PM peak proportion is greater than twice the AM peak proportion. Any stations that do not satisfy either of the above criteria are classed as 'Other'."
   ]
  },
  {
   "cell_type": "code",
   "execution_count": 9,
   "id": "efbf2af7-3e88-4f0a-8c82-6f338058d41b",
   "metadata": {},
   "outputs": [],
   "source": [
    "def stationClass(row):\n",
    "    if (row.Proportion_of_AMPeak / row.Proportion_of_PMPeak) > 2 : return 'Work'\n",
    "    if (row.Proportion_of_PMPeak / row.Proportion_of_AMPeak) > 2 : return 'Residential'\n",
    "    return 'Other'"
   ]
  },
  {
   "cell_type": "markdown",
   "id": "237572eb-7eaa-4b62-965b-83af3da0a47c",
   "metadata": {},
   "source": [
    "A new column 'Class' is then added to the data frame 'peak_proportions' containing the class that each station belongs to, as determined by the above criteria."
   ]
  },
  {
   "cell_type": "code",
   "execution_count": 10,
   "id": "e4985b1b-fc39-47c3-939c-6498fa0b1843",
   "metadata": {},
   "outputs": [
    {
     "data": {
      "text/html": [
       "<div>\n",
       "<style scoped>\n",
       "    .dataframe tbody tr th:only-of-type {\n",
       "        vertical-align: middle;\n",
       "    }\n",
       "\n",
       "    .dataframe tbody tr th {\n",
       "        vertical-align: top;\n",
       "    }\n",
       "\n",
       "    .dataframe thead th {\n",
       "        text-align: right;\n",
       "    }\n",
       "</style>\n",
       "<table border=\"1\" class=\"dataframe\">\n",
       "  <thead>\n",
       "    <tr style=\"text-align: right;\">\n",
       "      <th></th>\n",
       "      <th>Proportion_of_AMPeak</th>\n",
       "      <th>Proportion_of_PMPeak</th>\n",
       "      <th>Class</th>\n",
       "    </tr>\n",
       "    <tr>\n",
       "      <th>Station</th>\n",
       "      <th></th>\n",
       "      <th></th>\n",
       "      <th></th>\n",
       "    </tr>\n",
       "  </thead>\n",
       "  <tbody>\n",
       "    <tr>\n",
       "      <th>Acton Town</th>\n",
       "      <td>0.210425</td>\n",
       "      <td>0.280709</td>\n",
       "      <td>Other</td>\n",
       "    </tr>\n",
       "    <tr>\n",
       "      <th>Aldgate</th>\n",
       "      <td>0.459098</td>\n",
       "      <td>0.185424</td>\n",
       "      <td>Work</td>\n",
       "    </tr>\n",
       "    <tr>\n",
       "      <th>Aldgate East</th>\n",
       "      <td>0.359238</td>\n",
       "      <td>0.179336</td>\n",
       "      <td>Work</td>\n",
       "    </tr>\n",
       "    <tr>\n",
       "      <th>Alperton</th>\n",
       "      <td>0.167253</td>\n",
       "      <td>0.360883</td>\n",
       "      <td>Residential</td>\n",
       "    </tr>\n",
       "    <tr>\n",
       "      <th>Amersham</th>\n",
       "      <td>0.108579</td>\n",
       "      <td>0.375160</td>\n",
       "      <td>Residential</td>\n",
       "    </tr>\n",
       "    <tr>\n",
       "      <th>...</th>\n",
       "      <td>...</td>\n",
       "      <td>...</td>\n",
       "      <td>...</td>\n",
       "    </tr>\n",
       "    <tr>\n",
       "      <th>Wimbledon Park</th>\n",
       "      <td>0.150789</td>\n",
       "      <td>0.337985</td>\n",
       "      <td>Residential</td>\n",
       "    </tr>\n",
       "    <tr>\n",
       "      <th>Wood Green</th>\n",
       "      <td>0.114013</td>\n",
       "      <td>0.341987</td>\n",
       "      <td>Residential</td>\n",
       "    </tr>\n",
       "    <tr>\n",
       "      <th>Wood Lane</th>\n",
       "      <td>0.272012</td>\n",
       "      <td>0.267171</td>\n",
       "      <td>Other</td>\n",
       "    </tr>\n",
       "    <tr>\n",
       "      <th>Woodford</th>\n",
       "      <td>0.073344</td>\n",
       "      <td>0.405738</td>\n",
       "      <td>Residential</td>\n",
       "    </tr>\n",
       "    <tr>\n",
       "      <th>Woodside Park</th>\n",
       "      <td>0.079239</td>\n",
       "      <td>0.431826</td>\n",
       "      <td>Residential</td>\n",
       "    </tr>\n",
       "  </tbody>\n",
       "</table>\n",
       "<p>268 rows × 3 columns</p>\n",
       "</div>"
      ],
      "text/plain": [
       "                Proportion_of_AMPeak  Proportion_of_PMPeak        Class\n",
       "Station                                                                \n",
       "Acton Town                  0.210425              0.280709        Other\n",
       "Aldgate                     0.459098              0.185424         Work\n",
       "Aldgate East                0.359238              0.179336         Work\n",
       "Alperton                    0.167253              0.360883  Residential\n",
       "Amersham                    0.108579              0.375160  Residential\n",
       "...                              ...                   ...          ...\n",
       "Wimbledon Park              0.150789              0.337985  Residential\n",
       "Wood Green                  0.114013              0.341987  Residential\n",
       "Wood Lane                   0.272012              0.267171        Other\n",
       "Woodford                    0.073344              0.405738  Residential\n",
       "Woodside Park               0.079239              0.431826  Residential\n",
       "\n",
       "[268 rows x 3 columns]"
      ]
     },
     "execution_count": 10,
     "metadata": {},
     "output_type": "execute_result"
    }
   ],
   "source": [
    "peak_proportions = peak_proportions.assign(Class = peak_proportions.apply(stationClass, axis = 1))\n",
    "peak_proportions"
   ]
  },
  {
   "cell_type": "markdown",
   "id": "ccdb62c1-ecba-468f-a4c6-38a4cc774806",
   "metadata": {},
   "source": [
    "A selection of eleven Northern line stations is selected from 'peak_proportions' and displayed below."
   ]
  },
  {
   "cell_type": "code",
   "execution_count": 11,
   "id": "1d4ab36f-d6ff-4969-aee5-eb74dfc1e993",
   "metadata": {},
   "outputs": [
    {
     "data": {
      "text/html": [
       "<div>\n",
       "<style scoped>\n",
       "    .dataframe tbody tr th:only-of-type {\n",
       "        vertical-align: middle;\n",
       "    }\n",
       "\n",
       "    .dataframe tbody tr th {\n",
       "        vertical-align: top;\n",
       "    }\n",
       "\n",
       "    .dataframe thead th {\n",
       "        text-align: right;\n",
       "    }\n",
       "</style>\n",
       "<table border=\"1\" class=\"dataframe\">\n",
       "  <thead>\n",
       "    <tr style=\"text-align: right;\">\n",
       "      <th></th>\n",
       "      <th>Proportion_of_AMPeak</th>\n",
       "      <th>Proportion_of_PMPeak</th>\n",
       "      <th>Class</th>\n",
       "    </tr>\n",
       "    <tr>\n",
       "      <th>Station</th>\n",
       "      <th></th>\n",
       "      <th></th>\n",
       "      <th></th>\n",
       "    </tr>\n",
       "  </thead>\n",
       "  <tbody>\n",
       "    <tr>\n",
       "      <th>Archway</th>\n",
       "      <td>0.157158</td>\n",
       "      <td>0.294654</td>\n",
       "      <td>Other</td>\n",
       "    </tr>\n",
       "    <tr>\n",
       "      <th>Balham</th>\n",
       "      <td>0.119170</td>\n",
       "      <td>0.345038</td>\n",
       "      <td>Residential</td>\n",
       "    </tr>\n",
       "    <tr>\n",
       "      <th>Embankment</th>\n",
       "      <td>0.316509</td>\n",
       "      <td>0.261360</td>\n",
       "      <td>Other</td>\n",
       "    </tr>\n",
       "    <tr>\n",
       "      <th>Goodge Street</th>\n",
       "      <td>0.419287</td>\n",
       "      <td>0.152064</td>\n",
       "      <td>Work</td>\n",
       "    </tr>\n",
       "    <tr>\n",
       "      <th>Highgate</th>\n",
       "      <td>0.100101</td>\n",
       "      <td>0.355341</td>\n",
       "      <td>Residential</td>\n",
       "    </tr>\n",
       "    <tr>\n",
       "      <th>High Barnet</th>\n",
       "      <td>0.144235</td>\n",
       "      <td>0.345170</td>\n",
       "      <td>Residential</td>\n",
       "    </tr>\n",
       "    <tr>\n",
       "      <th>Leicester Square</th>\n",
       "      <td>0.187390</td>\n",
       "      <td>0.270347</td>\n",
       "      <td>Other</td>\n",
       "    </tr>\n",
       "    <tr>\n",
       "      <th>Morden</th>\n",
       "      <td>0.098852</td>\n",
       "      <td>0.379783</td>\n",
       "      <td>Residential</td>\n",
       "    </tr>\n",
       "    <tr>\n",
       "      <th>South Wimbledon</th>\n",
       "      <td>0.185494</td>\n",
       "      <td>0.305405</td>\n",
       "      <td>Other</td>\n",
       "    </tr>\n",
       "    <tr>\n",
       "      <th>Tottenham Court Road</th>\n",
       "      <td>0.319864</td>\n",
       "      <td>0.211084</td>\n",
       "      <td>Other</td>\n",
       "    </tr>\n",
       "    <tr>\n",
       "      <th>Warren Street</th>\n",
       "      <td>0.514916</td>\n",
       "      <td>0.106928</td>\n",
       "      <td>Work</td>\n",
       "    </tr>\n",
       "  </tbody>\n",
       "</table>\n",
       "</div>"
      ],
      "text/plain": [
       "                      Proportion_of_AMPeak  Proportion_of_PMPeak        Class\n",
       "Station                                                                      \n",
       "Archway                           0.157158              0.294654        Other\n",
       "Balham                            0.119170              0.345038  Residential\n",
       "Embankment                        0.316509              0.261360        Other\n",
       "Goodge Street                     0.419287              0.152064         Work\n",
       "Highgate                          0.100101              0.355341  Residential\n",
       "High Barnet                       0.144235              0.345170  Residential\n",
       "Leicester Square                  0.187390              0.270347        Other\n",
       "Morden                            0.098852              0.379783  Residential\n",
       "South Wimbledon                   0.185494              0.305405        Other\n",
       "Tottenham Court Road              0.319864              0.211084        Other\n",
       "Warren Street                     0.514916              0.106928         Work"
      ]
     },
     "execution_count": 11,
     "metadata": {},
     "output_type": "execute_result"
    }
   ],
   "source": [
    "peak_proportions.loc[['Archway', 'Balham', 'Embankment', 'Goodge Street', 'Highgate', 'High Barnet','Leicester Square',\n",
    "                      'Morden', 'South Wimbledon', 'Tottenham Court Road', 'Warren Street']]"
   ]
  },
  {
   "cell_type": "markdown",
   "id": "99d3c89f-ab8f-4343-8e61-5b0b27adf507",
   "metadata": {},
   "source": [
    "'Balham', 'Highgate', 'High Barnet' and 'Morden' all belong to the 'Residential' class, which is expected as these stations are more towards the outer edge of London, and so would likely be significantly more residential than industrial/commercial.\n",
    "\n",
    "'Goodge Street' and 'Warren Street' are classed as 'Work', which is expected as the area they are in is not very residential. The stations are surrounded by shops and businesses, as well as being situated right by University College London. Students typically follow standard working hours as well, so this will bolster the AM peak count further.\n",
    "\n",
    "The 'Other' class is slightly more difficult to explain. 'Archway' seems like it should be a residential station, in fact it just narrowly misses being classed as 'Residential' (as decided by the above threshold). However, what sets it apart from stations like 'Highgate' is its proximity to Whittington Hospital. People have appointments at all times of day at a hospital, which explains why the proportions are tipped out of the 'Residential' class.\n",
    "\n",
    "The remaining stations ('Embankment', 'Leicester Square', 'South Wimbledon' and 'Tottenham Court Road') are all either based in areas that have either an abundance of shops or have heavy tourism. All of these stations, apart from 'South Wimbledon', are very central and are popular areas for tourism. 'South Wimbledon' is not so much of a tourist hotspot as it is a shopping hotspot; this area has high streets, a shopping centre and cinemas. Tourists and shoppers do not necessarily travel more during the AM or PM peak periods; they travel at all times of day and so the proportions will be more even in these kinds of areas."
   ]
  }
 ],
 "metadata": {
  "kernelspec": {
   "display_name": "Python 3 (ipykernel)",
   "language": "python",
   "name": "python3"
  },
  "language_info": {
   "codemirror_mode": {
    "name": "ipython",
    "version": 3
   },
   "file_extension": ".py",
   "mimetype": "text/x-python",
   "name": "python",
   "nbconvert_exporter": "python",
   "pygments_lexer": "ipython3",
   "version": "3.9.7"
  }
 },
 "nbformat": 4,
 "nbformat_minor": 5
}
